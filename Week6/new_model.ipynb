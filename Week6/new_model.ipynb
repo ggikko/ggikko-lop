{
 "cells": [
  {
   "cell_type": "code",
   "execution_count": 1,
   "metadata": {},
   "outputs": [],
   "source": [
    "import pandas as pd\n",
    "from pycaret.classification import *\n",
    "from sklearn.model_selection import train_test_split"
   ]
  },
  {
   "cell_type": "code",
   "execution_count": 76,
   "metadata": {},
   "outputs": [],
   "source": [
    "df = pd.read_csv('data/result4.csv')\n",
    "# train = sample.drop(['사업장명'], axis=1)\n",
    "# features = sample.loc[:, ['광역시코드', '평균연봉', 'joinlossratio']]\n",
    "\n",
    "# train_features = features\n",
    "# train_labels = sample['status']"
   ]
  },
  {
   "cell_type": "code",
   "execution_count": 78,
   "metadata": {},
   "outputs": [],
   "source": [
    "df.drop((df[df['인원202009'] == 0]).index, inplace=True)"
   ]
  },
  {
   "cell_type": "code",
   "execution_count": 80,
   "metadata": {},
   "outputs": [],
   "source": [
    "df['joinlossratio'] = df['2020상실'] / df['인원202009']"
   ]
  },
  {
   "cell_type": "code",
   "execution_count": 51,
   "metadata": {},
   "outputs": [
    {
     "data": {
      "text/plain": [
       "0          0.166667\n",
       "1          0.193548\n",
       "2          0.333333\n",
       "3          0.000000\n",
       "4          0.277778\n",
       "            ...    \n",
       "416541     0.000000\n",
       "416542     0.400000\n",
       "416543     0.142857\n",
       "416544    10.000000\n",
       "416545          inf\n",
       "Name: joinlossratio, Length: 416546, dtype: float64"
      ]
     },
     "execution_count": 51,
     "metadata": {},
     "output_type": "execute_result"
    }
   ],
   "source": [
    "df['joinlossratio'].fillna(0)"
   ]
  },
  {
   "cell_type": "code",
   "execution_count": 82,
   "metadata": {},
   "outputs": [
    {
     "data": {
      "text/html": [
       "<div>\n",
       "<style scoped>\n",
       "    .dataframe tbody tr th:only-of-type {\n",
       "        vertical-align: middle;\n",
       "    }\n",
       "\n",
       "    .dataframe tbody tr th {\n",
       "        vertical-align: top;\n",
       "    }\n",
       "\n",
       "    .dataframe thead th {\n",
       "        text-align: right;\n",
       "    }\n",
       "</style>\n",
       "<table border=\"1\" class=\"dataframe\">\n",
       "  <thead>\n",
       "    <tr style=\"text-align: right;\">\n",
       "      <th></th>\n",
       "      <th>사업장명</th>\n",
       "      <th>도로명주소</th>\n",
       "      <th>업종코드명</th>\n",
       "      <th>2020신규</th>\n",
       "      <th>2020상실</th>\n",
       "      <th>예상평균연봉</th>\n",
       "      <th>월급202001</th>\n",
       "      <th>월급202002</th>\n",
       "      <th>월급202003</th>\n",
       "      <th>월급202004</th>\n",
       "      <th>...</th>\n",
       "      <th>인원202001</th>\n",
       "      <th>인원202002</th>\n",
       "      <th>인원202003</th>\n",
       "      <th>인원202004</th>\n",
       "      <th>인원202005</th>\n",
       "      <th>인원202006</th>\n",
       "      <th>인원202007</th>\n",
       "      <th>인원202008</th>\n",
       "      <th>인원202009</th>\n",
       "      <th>joinlossratio</th>\n",
       "    </tr>\n",
       "  </thead>\n",
       "  <tbody>\n",
       "  </tbody>\n",
       "</table>\n",
       "<p>0 rows × 25 columns</p>\n",
       "</div>"
      ],
      "text/plain": [
       "Empty DataFrame\n",
       "Columns: [사업장명, 도로명주소, 업종코드명, 2020신규, 2020상실, 예상평균연봉, 월급202001, 월급202002, 월급202003, 월급202004, 월급202005, 월급202006, 월급202007, 월급202008, 월급202009, 인원202001, 인원202002, 인원202003, 인원202004, 인원202005, 인원202006, 인원202007, 인원202008, 인원202009, joinlossratio]\n",
       "Index: []\n",
       "\n",
       "[0 rows x 25 columns]"
      ]
     },
     "execution_count": 82,
     "metadata": {},
     "output_type": "execute_result"
    }
   ],
   "source": [
    "df[df['인원202009'] == 0]"
   ]
  },
  {
   "cell_type": "code",
   "execution_count": 86,
   "metadata": {},
   "outputs": [],
   "source": [
    "df.to_csv('last.csv', index=False)"
   ]
  },
  {
   "cell_type": "code",
   "execution_count": 100,
   "metadata": {},
   "outputs": [
    {
     "name": "stdout",
     "output_type": "stream",
     "text": [
      "<class 'pandas.core.frame.DataFrame'>\n",
      "Int64Index: 376887 entries, 1 to 416544\n",
      "Data columns (total 25 columns):\n",
      " #   Column         Non-Null Count   Dtype  \n",
      "---  ------         --------------   -----  \n",
      " 0   사업장명           376887 non-null  object \n",
      " 1   도로명주소          376887 non-null  object \n",
      " 2   업종코드명          376887 non-null  object \n",
      " 3   2020신규         376887 non-null  int64  \n",
      " 4   2020상실         376887 non-null  int64  \n",
      " 5   예상평균연봉         376887 non-null  int64  \n",
      " 6   월급202001       376887 non-null  int64  \n",
      " 7   월급202002       376887 non-null  int64  \n",
      " 8   월급202003       376887 non-null  int64  \n",
      " 9   월급202004       376887 non-null  int64  \n",
      " 10  월급202005       376887 non-null  int64  \n",
      " 11  월급202006       376887 non-null  int64  \n",
      " 12  월급202007       376887 non-null  int64  \n",
      " 13  월급202008       376887 non-null  int64  \n",
      " 14  월급202009       376887 non-null  int64  \n",
      " 15  인원202001       376887 non-null  int64  \n",
      " 16  인원202002       376887 non-null  int64  \n",
      " 17  인원202003       376887 non-null  int64  \n",
      " 18  인원202004       376887 non-null  int64  \n",
      " 19  인원202005       376887 non-null  int64  \n",
      " 20  인원202006       376887 non-null  int64  \n",
      " 21  인원202007       376887 non-null  int64  \n",
      " 22  인원202008       376887 non-null  int64  \n",
      " 23  인원202009       376887 non-null  int64  \n",
      " 24  joinlossratio  376887 non-null  float64\n",
      "dtypes: float64(1), int64(21), object(3)\n",
      "memory usage: 84.8+ MB\n"
     ]
    }
   ],
   "source": [
    "df.info()"
   ]
  },
  {
   "cell_type": "code",
   "execution_count": 109,
   "metadata": {},
   "outputs": [],
   "source": [
    "temp_df = df.loc[:, ['사업장명']]\n",
    "temp_df.loc[0:50, :].to_csv('from0to50.csv', index=False)"
   ]
  },
  {
   "cell_type": "code",
   "execution_count": 98,
   "metadata": {},
   "outputs": [],
   "source": [
    "df[df['사업장명']].loc[0:50, :].to_csv('from51to100.csv', index=False)"
   ]
  },
  {
   "cell_type": "code",
   "execution_count": null,
   "metadata": {},
   "outputs": [],
   "source": []
  }
 ],
 "metadata": {
  "kernelspec": {
   "display_name": "Python 3",
   "language": "python",
   "name": "python3"
  },
  "language_info": {
   "codemirror_mode": {
    "name": "ipython",
    "version": 3
   },
   "file_extension": ".py",
   "mimetype": "text/x-python",
   "name": "python",
   "nbconvert_exporter": "python",
   "pygments_lexer": "ipython3",
   "version": "3.8.3"
  }
 },
 "nbformat": 4,
 "nbformat_minor": 4
}
